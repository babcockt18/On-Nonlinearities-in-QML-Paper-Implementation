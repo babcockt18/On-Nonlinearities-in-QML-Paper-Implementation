{
 "nbformat": 4,
 "nbformat_minor": 0,
 "metadata": {
  "colab": {
   "provenance": [],
   "gpuType": "T4",
   "authorship_tag": "ABX9TyPFijqEJOco141u4lvUeym4",
   "include_colab_link": true
  },
  "kernelspec": {
   "name": "python3",
   "display_name": "Python 3"
  },
  "language_info": {
   "name": "python"
  },
  "accelerator": "GPU"
 },
 "cells": [
  {
   "cell_type": "markdown",
   "metadata": {
    "id": "view-in-github",
    "colab_type": "text"
   },
   "source": [
    "<a href=\"https://colab.research.google.com/github/babcockt18/On-Nonlinearities-in-QML-Paper-Implementation/blob/adding_ipynb_rds/QHP.ipynb\" target=\"_parent\"><img src=\"https://colab.research.google.com/assets/colab-badge.svg\" alt=\"Open In Colab\"/></a>"
   ]
  },
  {
   "cell_type": "markdown",
   "source": [
    "# Implementation of *Nonlinear transformations in quantum computation*"
   ],
   "metadata": {
    "id": "wDqsc9Ito0Zb"
   }
  },
  {
   "cell_type": "code",
   "execution_count": 49,
   "metadata": {
    "id": "_VNgylYEyMxM"
   },
   "outputs": [],
   "source": [
    "# Installs\n",
    "%pip install -qqq pennylane --progress-bar off"
   ]
  },
  {
   "cell_type": "code",
   "source": [
    "# Imports\n",
    "import pennylane as qml\n",
    "from pennylane import numpy as np\n",
    "import matplotlib.pyplot as plt"
   ],
   "metadata": {
    "id": "r2YYOs-CHQwA"
   },
   "execution_count": 50,
   "outputs": []
  },
  {
   "cell_type": "code",
   "source": [
    "# 4-qubit input state\n",
    "states = [[1 / np.sqrt(2), 1 / np.sqrt(2)],[1 / np.sqrt(2), 1 / np.sqrt(2)],[1 / np.sqrt(2), 1 / np.sqrt(2)],[1 / np.sqrt(2), 1 / np.sqrt(2)],[1 / np.sqrt(2), 1 / np.sqrt(2)]]\n",
    "\n",
    "# Define the power to raise the nonlinearity\n",
    "k = 4"
   ],
   "metadata": {
    "id": "w3GUFTD5OTxV"
   },
   "execution_count": 67,
   "outputs": []
  },
  {
   "cell_type": "markdown",
   "source": [
    "![Iterated-Quantum-Hadamard-Product-The-circuit-consists-of-n-1-repetitions-of-the-QHP.png](data:image/png;base64,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)"
   ],
   "metadata": {
    "id": "GEiTWhGs7XQA"
   }
  },
  {
   "cell_type": "code",
   "source": [
    "# instantiate qml.device\n",
    "dev = qml.device('default.mixed', wires=5, shots=1000)\n",
    "\n",
    "# Iterated Quantum Hadamard Product Circuit\n",
    "@qml.qnode(dev)\n",
    "def circuit(states, k):\n",
    "    qml.QubitStateVector(states[0], wires=[0])\n",
    "    for j in range(k):\n",
    "      for i in range(1, len(states)):\n",
    "          qml.QubitStateVector(states[i], wires=[i]) # Sets arbitrary qubit state on qubit in the target register\n",
    "          qml.CNOT(wires=[0, i])\n",
    "          qml.Projector([0,0], wires=[i]) # Implements M = |0X0| operator on the recently instantiated and 'CNOT'ed wire in the target register\n",
    "\n",
    "    return qml.counts(all_outcomes=False)"
   ],
   "metadata": {
    "id": "eUVxMTbHySYE"
   },
   "execution_count": 70,
   "outputs": []
  },
  {
   "cell_type": "code",
   "source": [
    "print('The counts output is: {0}'.format(circuit(states, k)))"
   ],
   "metadata": {
    "colab": {
     "base_uri": "https://localhost:8080/"
    },
    "id": "iCkAstGqI6Ib",
    "outputId": "5d9bc27a-fcb0-491b-cbd5-513d4bc2c69d"
   },
   "execution_count": 71,
   "outputs": [
    {
     "output_type": "stream",
     "name": "stdout",
     "text": [
      "The counts output is: {'00000': 479, '10000': 521}\n"
     ]
    }
   ]
  },
  {
   "cell_type": "code",
   "source": [
    "# TODO: fix this so that it works given the output of qml.counts(), initially worked when the output was given by qml.density_matrix(wires=[0]), but\n",
    "# using density_matrix isn't gonna cut it because it only works with analytic solution\n",
    "# Absolute Sampling Error\n",
    "# absolute_sampling_error = np.array([np.sqrt(circuit(states, i)[1]) for i in range(2,10)])\n",
    "\n",
    "# Expected Values\n",
    "# expected_values = np.array([circuit(states, i) for i in range(2,10)])\n",
    "\n",
    "# Relative Error\n",
    "# relative_error = np.array([np.sqrt(circuit(states, i)[1]) / circuit(states, i)[0] for i in range(2,10)])"
   ],
   "metadata": {
    "id": "rWVM3qBONJaQ",
    "colab": {
     "base_uri": "https://localhost:8080/",
     "height": 367
    },
    "outputId": "3a02aa56-a7df-43b8-f785-1f70e475ecab"
   },
   "execution_count": 72,
   "outputs": [
    {
     "output_type": "error",
     "ename": "KeyError",
     "evalue": "ignored",
     "traceback": [
      "\u001B[0;31m---------------------------------------------------------------------------\u001B[0m",
      "\u001B[0;31mKeyError\u001B[0m                                  Traceback (most recent call last)",
      "\u001B[0;32m<ipython-input-72-ccd966f176ff>\u001B[0m in \u001B[0;36m<cell line: 2>\u001B[0;34m()\u001B[0m\n\u001B[1;32m      1\u001B[0m \u001B[0;31m# Absolute Sampling Error\u001B[0m\u001B[0;34m\u001B[0m\u001B[0;34m\u001B[0m\u001B[0m\n\u001B[0;32m----> 2\u001B[0;31m \u001B[0mabsolute_sampling_error\u001B[0m \u001B[0;34m=\u001B[0m \u001B[0mnp\u001B[0m\u001B[0;34m.\u001B[0m\u001B[0marray\u001B[0m\u001B[0;34m(\u001B[0m\u001B[0;34m[\u001B[0m\u001B[0mnp\u001B[0m\u001B[0;34m.\u001B[0m\u001B[0msqrt\u001B[0m\u001B[0;34m(\u001B[0m\u001B[0mcircuit\u001B[0m\u001B[0;34m(\u001B[0m\u001B[0mstates\u001B[0m\u001B[0;34m,\u001B[0m \u001B[0mi\u001B[0m\u001B[0;34m)\u001B[0m\u001B[0;34m[\u001B[0m\u001B[0;36m1\u001B[0m\u001B[0;34m]\u001B[0m\u001B[0;34m)\u001B[0m \u001B[0;32mfor\u001B[0m \u001B[0mi\u001B[0m \u001B[0;32min\u001B[0m \u001B[0mrange\u001B[0m\u001B[0;34m(\u001B[0m\u001B[0;36m2\u001B[0m\u001B[0;34m,\u001B[0m\u001B[0;36m10\u001B[0m\u001B[0;34m)\u001B[0m\u001B[0;34m]\u001B[0m\u001B[0;34m)\u001B[0m\u001B[0;34m\u001B[0m\u001B[0;34m\u001B[0m\u001B[0m\n\u001B[0m\u001B[1;32m      3\u001B[0m \u001B[0;34m\u001B[0m\u001B[0m\n\u001B[1;32m      4\u001B[0m \u001B[0;31m# Expected Values\u001B[0m\u001B[0;34m\u001B[0m\u001B[0;34m\u001B[0m\u001B[0m\n\u001B[1;32m      5\u001B[0m \u001B[0mexpected_values\u001B[0m \u001B[0;34m=\u001B[0m \u001B[0mnp\u001B[0m\u001B[0;34m.\u001B[0m\u001B[0marray\u001B[0m\u001B[0;34m(\u001B[0m\u001B[0;34m[\u001B[0m\u001B[0mcircuit\u001B[0m\u001B[0;34m(\u001B[0m\u001B[0mstates\u001B[0m\u001B[0;34m,\u001B[0m \u001B[0mi\u001B[0m\u001B[0;34m)\u001B[0m \u001B[0;32mfor\u001B[0m \u001B[0mi\u001B[0m \u001B[0;32min\u001B[0m \u001B[0mrange\u001B[0m\u001B[0;34m(\u001B[0m\u001B[0;36m2\u001B[0m\u001B[0;34m,\u001B[0m\u001B[0;36m10\u001B[0m\u001B[0;34m)\u001B[0m\u001B[0;34m]\u001B[0m\u001B[0;34m)\u001B[0m\u001B[0;34m\u001B[0m\u001B[0;34m\u001B[0m\u001B[0m\n",
      "\u001B[0;32m<ipython-input-72-ccd966f176ff>\u001B[0m in \u001B[0;36m<listcomp>\u001B[0;34m(.0)\u001B[0m\n\u001B[1;32m      1\u001B[0m \u001B[0;31m# Absolute Sampling Error\u001B[0m\u001B[0;34m\u001B[0m\u001B[0;34m\u001B[0m\u001B[0m\n\u001B[0;32m----> 2\u001B[0;31m \u001B[0mabsolute_sampling_error\u001B[0m \u001B[0;34m=\u001B[0m \u001B[0mnp\u001B[0m\u001B[0;34m.\u001B[0m\u001B[0marray\u001B[0m\u001B[0;34m(\u001B[0m\u001B[0;34m[\u001B[0m\u001B[0mnp\u001B[0m\u001B[0;34m.\u001B[0m\u001B[0msqrt\u001B[0m\u001B[0;34m(\u001B[0m\u001B[0mcircuit\u001B[0m\u001B[0;34m(\u001B[0m\u001B[0mstates\u001B[0m\u001B[0;34m,\u001B[0m \u001B[0mi\u001B[0m\u001B[0;34m)\u001B[0m\u001B[0;34m[\u001B[0m\u001B[0;36m1\u001B[0m\u001B[0;34m]\u001B[0m\u001B[0;34m)\u001B[0m \u001B[0;32mfor\u001B[0m \u001B[0mi\u001B[0m \u001B[0;32min\u001B[0m \u001B[0mrange\u001B[0m\u001B[0;34m(\u001B[0m\u001B[0;36m2\u001B[0m\u001B[0;34m,\u001B[0m\u001B[0;36m10\u001B[0m\u001B[0;34m)\u001B[0m\u001B[0;34m]\u001B[0m\u001B[0;34m)\u001B[0m\u001B[0;34m\u001B[0m\u001B[0;34m\u001B[0m\u001B[0m\n\u001B[0m\u001B[1;32m      3\u001B[0m \u001B[0;34m\u001B[0m\u001B[0m\n\u001B[1;32m      4\u001B[0m \u001B[0;31m# Expected Values\u001B[0m\u001B[0;34m\u001B[0m\u001B[0;34m\u001B[0m\u001B[0m\n\u001B[1;32m      5\u001B[0m \u001B[0mexpected_values\u001B[0m \u001B[0;34m=\u001B[0m \u001B[0mnp\u001B[0m\u001B[0;34m.\u001B[0m\u001B[0marray\u001B[0m\u001B[0;34m(\u001B[0m\u001B[0;34m[\u001B[0m\u001B[0mcircuit\u001B[0m\u001B[0;34m(\u001B[0m\u001B[0mstates\u001B[0m\u001B[0;34m,\u001B[0m \u001B[0mi\u001B[0m\u001B[0;34m)\u001B[0m \u001B[0;32mfor\u001B[0m \u001B[0mi\u001B[0m \u001B[0;32min\u001B[0m \u001B[0mrange\u001B[0m\u001B[0;34m(\u001B[0m\u001B[0;36m2\u001B[0m\u001B[0;34m,\u001B[0m\u001B[0;36m10\u001B[0m\u001B[0;34m)\u001B[0m\u001B[0;34m]\u001B[0m\u001B[0;34m)\u001B[0m\u001B[0;34m\u001B[0m\u001B[0;34m\u001B[0m\u001B[0m\n",
      "\u001B[0;31mKeyError\u001B[0m: 1"
     ]
    }
   ]
  },
  {
   "cell_type": "code",
   "source": [
    "print(relative_error)\n",
    "print(expected_values)"
   ],
   "metadata": {
    "colab": {
     "base_uri": "https://localhost:8080/"
    },
    "id": "VKSq5Xvd0sDU",
    "outputId": "107786f2-3e53-498d-dd99-cea41ee97766"
   },
   "execution_count": null,
   "outputs": [
    {
     "output_type": "stream",
     "name": "stdout",
     "text": [
      "[[ 5.55111512e-17+0.00000000e+00j -9.17877080e+32-0.00000000e+00j]\n",
      " [ 7.45058060e-09+0.00000000e+00j  5.09524134e+16+0.00000000e+00j]\n",
      " [ 0.00000000e+00+1.41421356e+00j -1.41421356e+00-0.00000000e+00j]\n",
      " [ 0.00000000e+00+1.41421356e+00j -1.41421356e+00-0.00000000e+00j]\n",
      " [ 1.49011612e-08+0.00000000e+00j -1.45578324e+16-0.00000000e+00j]\n",
      " [ 0.00000000e+00+1.05367121e-08j -2.54762067e+16-0.00000000e+00j]\n",
      " [ 1.41421356e+00+0.00000000e+00j  1.41421356e+00+0.00000000e+00j]\n",
      " [ 1.41421356e+00+0.00000000e+00j  1.41421356e+00+0.00000000e+00j]]\n"
     ]
    }
   ]
  },
  {
   "cell_type": "code",
   "source": [
    "# List of Powers of K to plot on x-axis\n",
    "powers_k = np.array([2,3,4,5,6,7,8,9])\n",
    "\n",
    "# Powers of K vs Absolute Sampling Error\n",
    "plt.plot(powers_k, absolute_sampling_error)\n",
    "\n",
    "# Powers of K vs Relative Error\n",
    "plt.plot(powers_k, relative_error)\n",
    "\n",
    "# Powers of K vs Expectation Value\n",
    "plt.plot(powers_k, expected_values)"
   ],
   "metadata": {
    "id": "SG9wfzyZ873X"
   },
   "execution_count": null,
   "outputs": []
  },
  {
   "cell_type": "markdown",
   "source": [
    "# Appendix/Graveyard"
   ],
   "metadata": {
    "id": "ncZY5oEbcSaI"
   }
  },
  {
   "cell_type": "code",
   "source": [
    "# Define the power to raise the nonlinearity\n",
    "k = 2\n",
    "\n",
    "# instantiate Iterated Quantum Hadamard Product Circuit\n",
    "dev = qml.device('default.qubit', wires=5, shots=1000)\n",
    "\n",
    "\n",
    "def qhp_operator(k):\n",
    "    for j in range(k):\n",
    "      for i in range(1, len(states)):\n",
    "          qml.CNOT(wires=[0, i])\n",
    "          qml.measure(i)\n",
    "    return qml.expval(qml.PauliZ(wires=5))\n",
    "\n",
    "@qml.qnode(dev)\n",
    "# @qml.defer_measurements\n",
    "def circuit_1(states, k):\n",
    "  return qml.expval(qml.QubitStateVector(states[0], wires=[0]) @ qhp_operator(k))"
   ],
   "metadata": {
    "id": "hv2kFxdvJZBt"
   },
   "execution_count": null,
   "outputs": []
  },
  {
   "cell_type": "code",
   "source": [
    "# TODO: turn the above function into an operator function\n",
    "# TODO: create a |0X0| operator function\n",
    "# TODO: create a circuit that returns over finite shots a sample of qml.expval(O(state) @ M(i))"
   ],
   "metadata": {
    "id": "fMrCC9ZfALvy"
   },
   "execution_count": null,
   "outputs": []
  },
  {
   "cell_type": "code",
   "source": [
    "states = [[1 / np.sqrt(2), 1 / np.sqrt(2)],[1 / np.sqrt(2), 1 / np.sqrt(2)]]\n",
    "# states = [[1, 0],[0, 1]]\n",
    "print('The number of states is: {0}'.format(len(states)))\n",
    "# instantiate Quantum Hadamard Product Circuit\n",
    "dev = qml.device('default.qubit', wires=len(states), shots=1000)\n",
    "\n",
    "\n",
    "@qml.qnode(dev)\n",
    "def qhp(states, control, target):\n",
    "\n",
    "  # qml.Hadamard(wires=[0])\n",
    "\n",
    "  for i in range(1, len(states)):\n",
    "    # qml.Hadamard(wires=[i])\n",
    "    qml.CNOT(wires=[0, i])\n",
    "    # qml.measure(i, reset=True)\n",
    "    qml.Projector([0], wires=[i])\n",
    "\n",
    "  # return qml.density_matrix(wires=[0])\n",
    "  return qml.counts(all_outcomes=False)"
   ],
   "metadata": {
    "id": "uH_L6eQZHSJr",
    "colab": {
     "base_uri": "https://localhost:8080/"
    },
    "outputId": "98ca4182-6f07-42d8-ef8a-2b4423c0e209"
   },
   "execution_count": null,
   "outputs": [
    {
     "output_type": "stream",
     "name": "stdout",
     "text": [
      "The number of states is: 2\n"
     ]
    }
   ]
  },
  {
   "cell_type": "code",
   "source": [
    "print('The matrix output is: {0}'.format(qhp(states, 0,1)))"
   ],
   "metadata": {
    "colab": {
     "base_uri": "https://localhost:8080/"
    },
    "id": "bBgkJ0DrmfQe",
    "outputId": "10607dab-51eb-477a-e875-89b4c89327b3"
   },
   "execution_count": null,
   "outputs": [
    {
     "output_type": "stream",
     "name": "stdout",
     "text": [
      "The matrix output is: {'00': 1000}\n"
     ]
    }
   ]
  },
  {
   "cell_type": "code",
   "source": [],
   "metadata": {
    "id": "SnDpVyS62IbJ"
   },
   "execution_count": null,
   "outputs": []
  }
 ]
}
